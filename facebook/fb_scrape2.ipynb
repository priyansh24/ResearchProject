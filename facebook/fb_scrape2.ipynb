{
 "cells": [
  {
   "cell_type": "code",
   "execution_count": 1,
   "metadata": {},
   "outputs": [
    {
     "output_type": "stream",
     "name": "stdout",
     "text": [
      "Libraries imported!\n"
     ]
    }
   ],
   "source": [
    "from selenium.webdriver import Chrome\n",
    "from selenium.webdriver.chrome.options import Options\n",
    "import selenium.common.exceptions as selException\n",
    "\n",
    "import time\n",
    "import fb_credentials1 as fb\n",
    "\n",
    "import json\n",
    "\n",
    "print('Libraries imported!')"
   ]
  },
  {
   "cell_type": "code",
   "execution_count": 2,
   "metadata": {},
   "outputs": [],
   "source": [
    "# below \"options\" variable is for:\n",
    "# 1. opening the window in maximized mode\n",
    "# 2. disabling any kind of pop up alerts\n",
    "# 3. disabling any kind of extensions\n",
    "options = Options()\n",
    "options.add_argument(\"--disable-infobars\")\n",
    "options.add_argument(\"start-maximized\")\n",
    "options.add_argument(\"--disable-extensions\")\n",
    "\n",
    "# Pass the argument 1 to allow and 2 to block for notifications\n",
    "options.add_experimental_option(\"prefs\", { \n",
    "    \"profile.default_content_setting_values.notifications\": 2 \n",
    "})\n",
    "\n",
    "# open chrome browser\n",
    "driver = Chrome(options=options)\n",
    "driver.implicitly_wait(5) # wait implicitly for 5 seconds till for an element to appear if we are finding it."
   ]
  },
  {
   "source": [
    "# go to fb.com\n",
    "driver.get('https://www.facebook.com')"
   ],
   "cell_type": "code",
   "metadata": {},
   "execution_count": 3,
   "outputs": []
  },
  {
   "source": [
    "# fill login details\n",
    "email = driver.find_element_by_xpath(\"//input[@name='email']\")\n",
    "password = driver.find_element_by_xpath(\"//input[@name='pass']\")\n",
    "login_button = driver.find_element_by_xpath(\"//button[@name='login']\")\n",
    "\n",
    "# fill the login form\n",
    "email.send_keys(fb.email)\n",
    "password.send_keys(fb.password)\n",
    "\n",
    "# click on login\n",
    "login_button.click()\n",
    "time.sleep(5)"
   ],
   "cell_type": "code",
   "metadata": {},
   "execution_count": 4,
   "outputs": []
  },
  {
   "cell_type": "code",
   "execution_count": 5,
   "metadata": {},
   "outputs": [],
   "source": [
    "group_link = 'https://www.facebook.com/groups/ocdsupportgroupforIndians'\n",
    "driver.get(group_link)\n",
    "time.sleep(5)"
   ]
  },
  {
   "cell_type": "code",
   "execution_count": 6,
   "metadata": {},
   "outputs": [],
   "source": [
    "# scrolling down \"infinite scroll\"\n",
    "# approx. 4 post per scroll\n",
    "for i in range(10):\n",
    "    driver.execute_script(\"window.scrollTo(0, document.body.scrollHeight);\")\n",
    "    time.sleep(3)"
   ]
  },
  {
   "cell_type": "code",
   "execution_count": 8,
   "metadata": {},
   "outputs": [
    {
     "output_type": "stream",
     "name": "stdout",
     "text": [
      "All 'see mores' clicked !!\n"
     ]
    }
   ],
   "source": [
    "# Clicking all \"See more\" i.e. expanding all posts and comments\n",
    "try:\n",
    "    while True:\n",
    "        see_more = driver.find_element_by_xpath(\"//div[@role='button'][text()='See more']\")\n",
    "        driver.execute_script(\"arguments[0].click();\", see_more)\n",
    "except selException.NoSuchElementException as e:\n",
    "    print(\"All 'see mores' clicked !!\")\n",
    "# except Exception as e:\n",
    "#     logging.exception(\"Something awful happened!\")"
   ]
  },
  {
   "cell_type": "code",
   "execution_count": 9,
   "metadata": {},
   "outputs": [],
   "source": [
    "from bs4 import BeautifulSoup\n",
    "soup = BeautifulSoup(driver.page_source, 'lxml')"
   ]
  },
  {
   "cell_type": "code",
   "execution_count": 10,
   "metadata": {},
   "outputs": [
    {
     "output_type": "stream",
     "name": "stdout",
     "text": [
      "No. of posts:  47 \n\nOCD Mental Health Support Group for Indians (Self-Help Group)\n"
     ]
    }
   ],
   "source": [
    "group_title = soup.find('div',{'class':'bi6gxh9e aov4n071'}).text\n",
    "feed = soup.find('div',{'role':'feed'} )\n",
    "posts = feed.find_all('div', {'class':'rq0escxv l9j0dhe7 du4w35lb hybvsw6c ue3kfks5 pw54ja7n uo3d90p7 l82x9zwi ni8dbmo4 stjgntxs k4urcfbm sbcfpzgs'})\n",
    "print('No. of posts: ', len(posts), '\\n')\n",
    "print(group_title)"
   ]
  },
  {
   "cell_type": "code",
   "execution_count": 11,
   "metadata": {
    "scrolled": false
   },
   "outputs": [
    {
     "output_type": "stream",
     "name": "stdout",
     "text": [
      "Saved all visible posts!\n"
     ]
    }
   ],
   "source": [
    "# iterating over every post and saving them in a list\n",
    "data = []\n",
    "try:\n",
    "    for i, post in enumerate(posts):\n",
    "        temp = post.div.contents[1].div.contents[2]\n",
    "        selftext = temp.get_text(separator=' ')\n",
    "        if temp.find('div', {'aria-hidden':True}):\n",
    "            selftext = selftext[:len(selftext)//2]\n",
    "        data.append({'selftext':selftext})            \n",
    "except IndexError as e:\n",
    "    print('Saved all visible posts!')\n",
    "# except Exception as e:\n",
    "#     logging.exception('Something awful happened!!')\n",
    "    "
   ]
  },
  {
   "cell_type": "code",
   "execution_count": 12,
   "metadata": {},
   "outputs": [
    {
     "output_type": "stream",
     "name": "stdout",
     "text": [
      "File created!!\n"
     ]
    }
   ],
   "source": [
    "# saving data in file\n",
    "f = open(f'fb_{group_title}_{len(data)}_posts.json', 'w')\n",
    "f.write(json.dumps(data, ensure_ascii=False)) # to save non-ascii characters as-it-is\n",
    "f.close()\n",
    "print('File created!!')"
   ]
  },
  {
   "cell_type": "code",
   "execution_count": 15,
   "metadata": {},
   "outputs": [],
   "source": [
    "# import re"
   ]
  },
  {
   "cell_type": "code",
   "execution_count": 16,
   "metadata": {},
   "outputs": [
    {
     "data": {
      "text/plain": [
       "\"Search for Vipaashna centre near ur city of residence...it will meet ur requirements. If u want I can give u dr raathores no. He can guide on zoom. Medications don't help.. 9818681580 Dr Abhimayou Raathore. Just text him first he does not unknown calls. Take Care All The Best. God Bless you.\""
      ]
     },
     "execution_count": 16,
     "metadata": {},
     "output_type": "execute_result"
    }
   ],
   "source": [
    "\n",
    "# post = posts2[0].find_all('div', {'class':re.compile(r'cxmmr5t8 oygrvhab hcukyx3x c1et5uql$')})\n",
    "# post_text_list = list(map(lambda e: e.text, post))\n",
    "# post_text = '. '.join(post_text_list)\n",
    "# post_text"
   ]
  },
  {
   "cell_type": "code",
   "execution_count": 10,
   "metadata": {},
   "outputs": [],
   "source": [
    "# feed = soup.find('div',{'role':'feed'} ).contents"
   ]
  },
  {
   "cell_type": "code",
   "execution_count": 11,
   "metadata": {},
   "outputs": [],
   "source": [
    "# f = open('./facebook/fb_depression.html', 'w', newline='')\n",
    "# f.write(str(feed))"
   ]
  },
  {
   "cell_type": "code",
   "execution_count": 12,
   "metadata": {},
   "outputs": [],
   "source": [
    "# posts = feed[1:-2]"
   ]
  },
  {
   "cell_type": "code",
   "execution_count": 13,
   "metadata": {},
   "outputs": [
    {
     "data": {
      "text/plain": [
       "[<span class=\"d2edcug0 hpfvmrgz qv66sw1b c1et5uql gk29lw5a a8c37x1j keod5gw0 nxhoafnm aigsh9s9 d9wwppkn fe6kdd0r mau55g9w c8b282yb hrzyx87i gfeo3gy3 a3bd9o3v knj5qynh oo9gr5id hzawbc8m\" dir=\"auto\"><div class=\"kvgmc6g5 cxmmr5t8 oygrvhab hcukyx3x c1et5uql ii04i59q\"><div dir=\"auto\" style=\"text-align: start;\">According to someone- </div><div dir=\"auto\" style=\"text-align: start;\">To become a better you, you must:</div></div><div class=\"o9v6fnle cxmmr5t8 oygrvhab hcukyx3x c1et5uql ii04i59q\"><div dir=\"auto\" style=\"text-align: start;\">1. Keep pressing forward</div><div dir=\"auto\" style=\"text-align: start;\">2. Be positive toward yourself</div><div dir=\"auto\" style=\"text-align: start;\">3. Develop better relationships</div><div dir=\"auto\" style=\"text-align: start;\">4. Form better habits.</div><div dir=\"auto\" style=\"text-align: start;\">5. Embrace the place where you are</div></div></span>]"
      ]
     },
     "execution_count": 13,
     "metadata": {},
     "output_type": "execute_result"
    }
   ],
   "source": [
    "# posts[2].find_all('span', {'class':'d2edcug0 hpfvmrgz qv66sw1b c1et5uql gk29lw5a a8c37x1j keod5gw0 nxhoafnm aigsh9s9 d9wwppkn fe6kdd0r mau55g9w c8b282yb hrzyx87i gfeo3gy3 a3bd9o3v knj5qynh oo9gr5id hzawbc8m'})"
   ]
  },
  {
   "cell_type": "code",
   "execution_count": 14,
   "metadata": {},
   "outputs": [
    {
     "data": {
      "text/plain": [
       "33"
      ]
     },
     "execution_count": 14,
     "metadata": {},
     "output_type": "execute_result"
    }
   ],
   "source": [
    "# posts2 = soup.find_all('div', {'class':'du4w35lb k4urcfbm l9j0dhe7 sjgh65i0'})\n",
    "# len(posts2)"
   ]
  }
 ],
 "metadata": {
  "kernelspec": {
   "name": "python3",
   "display_name": "Python 3.6.9 64-bit",
   "metadata": {
    "interpreter": {
     "hash": "31f2aee4e71d21fbe5cf8b01ff0e069b9275f58929596ceb00d14d90e3e16cd6"
    }
   }
  },
  "language_info": {
   "codemirror_mode": {
    "name": "ipython",
    "version": 3
   },
   "file_extension": ".py",
   "mimetype": "text/x-python",
   "name": "python",
   "nbconvert_exporter": "python",
   "pygments_lexer": "ipython3",
   "version": "3.6.9-final"
  }
 },
 "nbformat": 4,
 "nbformat_minor": 4
}