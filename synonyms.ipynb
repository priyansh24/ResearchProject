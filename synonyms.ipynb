{
 "cells": [
  {
   "cell_type": "code",
   "execution_count": 2,
   "metadata": {},
   "outputs": [],
   "source": [
    "from nltk.corpus import wordnet\n",
    "from PyDictionary import PyDictionary"
   ]
  },
  {
   "cell_type": "code",
   "execution_count": 10,
   "metadata": {},
   "outputs": [
    {
     "name": "stdout",
     "output_type": "stream",
     "text": [
      "{'grotesque', 'fantastic', 'strange', 'wonderful', 'grand', 'antic', 'marvelous', 'tremendous', 'wild', 'terrific', 'fantastical', 'unusual', 'howling', 'rattling', 'marvellous', 'wondrous'}\n"
     ]
    }
   ],
   "source": [
    "# finding synonyms\n",
    "word = 'fantastic'\n",
    "syns = wordnet.synsets(word)\n",
    "syno = set()\n",
    "for syn in syns:\n",
    "  for lem in syn.lemmas():\n",
    "    syno.add(lem.name())\n",
    "\n",
    "l = syno | set(PyDictionary(word).getSynonyms()[0][word])\n",
    "print(l)"
   ]
  },
  {
   "cell_type": "raw",
   "metadata": {},
   "source": []
  }
 ],
 "metadata": {
  "kernelspec": {
   "display_name": "Python 3",
   "language": "python",
   "name": "python3"
  },
  "language_info": {
   "codemirror_mode": {
    "name": "ipython",
    "version": 3
   },
   "file_extension": ".py",
   "mimetype": "text/x-python",
   "name": "python",
   "nbconvert_exporter": "python",
   "pygments_lexer": "ipython3",
   "version": "3.6.9"
  }
 },
 "nbformat": 4,
 "nbformat_minor": 4
}
