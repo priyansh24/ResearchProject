{
 "cells": [
  {
   "cell_type": "code",
   "execution_count": 18,
   "metadata": {},
   "outputs": [
    {
     "name": "stdout",
     "output_type": "stream",
     "text": [
      "Libraries imported!\n"
     ]
    }
   ],
   "source": [
    "import json\n",
    "import datetime\n",
    "from os import path\n",
    "print(\"Libraries imported!\")"
   ]
  },
  {
   "cell_type": "code",
   "execution_count": 20,
   "metadata": {},
   "outputs": [],
   "source": [
    "f = open(path.join(\"..\",\"data\",\"reddit_depression.json\"), 'r', newline='', encoding=\"utf8\")\n",
    "data = json.load(f)"
   ]
  },
  {
   "cell_type": "code",
   "execution_count": 23,
   "metadata": {},
   "outputs": [
    {
     "name": "stdout",
     "output_type": "stream",
     "text": [
      "1584901800.0\n"
     ]
    }
   ],
   "source": [
    "march_23_2020_epoch = datetime.datetime(2020,3,23,0,0,0).timestamp()\n",
    "print(march_23_2020_epoch)"
   ]
  },
  {
   "cell_type": "code",
   "execution_count": 24,
   "metadata": {},
   "outputs": [],
   "source": [
    "threshold_index = 0\n",
    "for i, post in enumerate(data):\n",
    "    if post[\"created\"] < march_23_2020_epoch:\n",
    "        threshold_index = i\n",
    "        break"
   ]
  },
  {
   "cell_type": "code",
   "execution_count": 25,
   "metadata": {},
   "outputs": [],
   "source": [
    "data_in_lockdown = data[:threshold_index]\n",
    "data_pre_lockdown = data[threshold_index:]"
   ]
  },
  {
   "cell_type": "code",
   "execution_count": 26,
   "metadata": {},
   "outputs": [],
   "source": [
    "f_in_lockdown = open(path.join(\"..\",\"data\",\"in_lockdown.json\"), 'w')\n",
    "f_pre_lockdown = open(path.join(\"..\",\"data\",\"pre_lockdown.json\"), 'w')"
   ]
  },
  {
   "cell_type": "code",
   "execution_count": 27,
   "metadata": {},
   "outputs": [],
   "source": [
    "json.dump(data_in_lockdown, f_in_lockdown, ensure_ascii=False)\n",
    "json.dump(data_pre_lockdown, f_pre_lockdown, ensure_ascii=False)"
   ]
  },
  {
   "cell_type": "code",
   "execution_count": 28,
   "metadata": {},
   "outputs": [],
   "source": [
    "f_in_lockdown.close()\n",
    "f_pre_lockdown.close()\n",
    "f.close()"
   ]
  },
  {
   "cell_type": "code",
   "execution_count": null,
   "metadata": {},
   "outputs": [],
   "source": []
  }
 ],
 "metadata": {
  "kernelspec": {
   "display_name": "Python 3",
   "language": "python",
   "name": "python3"
  },
  "language_info": {
   "codemirror_mode": {
    "name": "ipython",
    "version": 3
   },
   "file_extension": ".py",
   "mimetype": "text/x-python",
   "name": "python",
   "nbconvert_exporter": "python",
   "pygments_lexer": "ipython3",
   "version": "3.8.5"
  }
 },
 "nbformat": 4,
 "nbformat_minor": 4
}
