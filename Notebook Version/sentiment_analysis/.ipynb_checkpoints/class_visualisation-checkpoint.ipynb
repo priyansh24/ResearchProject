{
 "cells": [
  {
   "cell_type": "code",
   "execution_count": null,
   "metadata": {},
   "outputs": [],
   "source": [
    "import pandas as pd\n",
    "import numpy as np\n",
    "from os import path\n",
    "import matplotlib.pyplot as plt"
   ]
  },
  {
   "cell_type": "code",
   "execution_count": null,
   "metadata": {},
   "outputs": [],
   "source": [
    "f_score_in_lockdown = open(path.join(\n",
    "    'score', f\"score_in_lockdown_116.json\"), 'r', newline='', encoding='utf8')\n",
    "f_score_pre_lockdown = open(path.join(\n",
    "    'score', f\"score_pre_lockdown_120.json\"), 'r', newline='', encoding='utf8')"
   ]
  },
  {
   "cell_type": "code",
   "execution_count": null,
   "metadata": {},
   "outputs": [],
   "source": [
    "df_pre_lockdown = pd.read_json(f_score_pre_lockdown).iloc[::-1]\n",
    "df_in_lockdown = pd.read_json(f_score_in_lockdown).iloc[::-1]"
   ]
  },
  {
   "cell_type": "code",
   "execution_count": null,
   "metadata": {},
   "outputs": [],
   "source": [
    "class_to_compare = 'work_life'\n",
    "\n",
    "np.arange(df_pre_lockdown.shape[0])"
   ]
  },
  {
   "cell_type": "code",
   "execution_count": null,
   "metadata": {},
   "outputs": [],
   "source": [
    "fig, ax = plt.subplots(1, 2, sharey=True)\n",
    "\n",
    "ax[0].scatter(np.arange(df_pre_lockdown.shape[0]), df_pre_lockdown[[class_to_compare]])\n",
    "ax[0].set_xlabel('Posts')\n",
    "ax[0].set_ylabel(f'Score of {class_to_compare}')\n",
    "ax[0].set_title(f'Scores prelockdown for {class_to_compare}')\n",
    "\n",
    "ax[1].scatter(np.arange(df_in_lockdown.shape[0]), df_in_lockdown[[class_to_compare]], c='red')\n",
    "ax[1].set_xlabel('Posts')\n",
    "ax[1].set_ylabel(f'Score of {class_to_compare}')\n",
    "ax[1].set_title(f'Scores inlockdown for {class_to_compare}')\n",
    "\n",
    "ax[0].axhline(y=0, lw=0.5, color='k')\n",
    "ax[1].axhline(y=0, lw=0.5, color='k')\n",
    "\n",
    "fig.tight_layout()\n",
    "plt.show()"
   ]
  }
 ],
 "metadata": {
  "kernelspec": {
   "display_name": "Python 3",
   "language": "python",
   "name": "python3"
  },
  "language_info": {
   "codemirror_mode": {
    "name": "ipython",
    "version": 3
   },
   "file_extension": ".py",
   "mimetype": "text/x-python",
   "name": "python",
   "nbconvert_exporter": "python",
   "pygments_lexer": "ipython3",
   "version": "3.8.5"
  }
 },
 "nbformat": 4,
 "nbformat_minor": 4
}
