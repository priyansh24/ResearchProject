{
 "cells": [
  {
   "cell_type": "code",
   "execution_count": 1,
   "metadata": {},
   "outputs": [],
   "source": [
    "import pandas as pd\n",
    "import numpy as np\n",
    "from os import path\n",
    "import matplotlib.pyplot as plt"
   ]
  },
  {
   "cell_type": "code",
   "execution_count": 3,
   "metadata": {},
   "outputs": [],
   "source": [
    "f_score_in_lockdown = open(path.join(\n",
    "    'score', f\"score_in_lockdown.json\"), 'r', newline='', encoding='utf8')\n",
    "f_score_pre_lockdown = open(path.join(\n",
    "    'score', f\"score_pre_lockdown.json\"), 'r', newline='', encoding='utf8')"
   ]
  },
  {
   "cell_type": "code",
   "execution_count": 4,
   "metadata": {},
   "outputs": [],
   "source": [
    "df_pre_lockdown = pd.read_json(f_score_pre_lockdown).iloc[::-1]\n",
    "df_in_lockdown = pd.read_json(f_score_in_lockdown).iloc[::-1]"
   ]
  },
  {
   "cell_type": "code",
   "execution_count": 5,
   "metadata": {},
   "outputs": [
    {
     "data": {
      "text/plain": [
       "array([  0,   1,   2,   3,   4,   5,   6,   7,   8,   9,  10,  11,  12,\n",
       "        13,  14,  15,  16,  17,  18,  19,  20,  21,  22,  23,  24,  25,\n",
       "        26,  27,  28,  29,  30,  31,  32,  33,  34,  35,  36,  37,  38,\n",
       "        39,  40,  41,  42,  43,  44,  45,  46,  47,  48,  49,  50,  51,\n",
       "        52,  53,  54,  55,  56,  57,  58,  59,  60,  61,  62,  63,  64,\n",
       "        65,  66,  67,  68,  69,  70,  71,  72,  73,  74,  75,  76,  77,\n",
       "        78,  79,  80,  81,  82,  83,  84,  85,  86,  87,  88,  89,  90,\n",
       "        91,  92,  93,  94,  95,  96,  97,  98,  99, 100, 101, 102, 103,\n",
       "       104, 105, 106, 107, 108, 109, 110, 111])"
      ]
     },
     "execution_count": 5,
     "metadata": {},
     "output_type": "execute_result"
    }
   ],
   "source": [
    "class_to_compare = 'work_life'\n",
    "\n",
    "np.arange(df_pre_lockdown.shape[0])"
   ]
  },
  {
   "cell_type": "code",
   "execution_count": 6,
   "metadata": {},
   "outputs": [
    {
     "data": {
      "image/png": "[encoded data removed]",
      "text/plain": [
       "<Figure size 432x288 with 2 Axes>"
      ]
     },
     "metadata": {
      "needs_background": "light"
     },
     "output_type": "display_data"
    }
   ],
   "source": [
    "fig, ax = plt.subplots(1, 2, sharey=True)\n",
    "\n",
    "ax[0].scatter(np.arange(df_pre_lockdown.shape[0]), df_pre_lockdown[[class_to_compare]])\n",
    "ax[0].set_xlabel('Posts')\n",
    "ax[0].set_ylabel(f'Score of {class_to_compare}')\n",
    "ax[0].set_title(f'Scores prelockdown for {class_to_compare}')\n",
    "\n",
    "ax[1].scatter(np.arange(df_in_lockdown.shape[0]), df_in_lockdown[[class_to_compare]], c='red')\n",
    "ax[1].set_xlabel('Posts')\n",
    "ax[1].set_ylabel(f'Score of {class_to_compare}')\n",
    "ax[1].set_title(f'Scores inlockdown for {class_to_compare}')\n",
    "\n",
    "ax[0].axhline(y=0, lw=0.5, color='k')\n",
    "ax[1].axhline(y=0, lw=0.5, color='k')\n",
    "\n",
    "fig.tight_layout()\n",
    "plt.show()"
   ]
  },
  {
   "cell_type": "code",
   "execution_count": null,
   "metadata": {},
   "outputs": [],
   "source": []
  }
 ],
 "metadata": {
  "kernelspec": {
   "display_name": "Python 3",
   "language": "python",
   "name": "python3"
  },
  "language_info": {
   "codemirror_mode": {
    "name": "ipython",
    "version": 3
   },
   "file_extension": ".py",
   "mimetype": "text/x-python",
   "name": "python",
   "nbconvert_exporter": "python",
   "pygments_lexer": "ipython3",
   "version": "3.8.5"
  }
 },
 "nbformat": 4,
 "nbformat_minor": 4
}
