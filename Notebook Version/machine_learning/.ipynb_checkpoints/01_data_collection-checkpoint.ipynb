{
 "cells": [
  {
   "cell_type": "code",
   "execution_count": 6,
   "metadata": {},
   "outputs": [
    {
     "name": "stdout",
     "output_type": "stream",
     "text": [
      "Libraries imported!\n"
     ]
    }
   ],
   "source": [
    "import requests\n",
    "import json\n",
    "from os import path\n",
    "print('Libraries imported!')"
   ]
  },
  {
   "cell_type": "code",
   "execution_count": 2,
   "metadata": {},
   "outputs": [],
   "source": [
    "headers = {\n",
    "    'User-Agent': 'Mozilla/5.0 (Windows NT 6.3; Win64; x64) AppleWebKit/537.36 (KHTML, like Gecko) Chrome/54.0.2840.71 Safari/537.36'\n",
    "}"
   ]
  },
  {
   "cell_type": "code",
   "execution_count": 3,
   "metadata": {},
   "outputs": [],
   "source": [
    "def get_data_from_subreddit(subreddit_param, q_param=\"india\"):\n",
    "    data = []\n",
    "    after_param = ''\n",
    "#     sno = 0\n",
    "    next_hundred = None\n",
    "    \n",
    "    print(f\"Getting data from '{subreddit_param}'\")\n",
    "    \n",
    "    for i in range(10):\n",
    "        res = requests.get(\n",
    "            f'https://www.reddit.com/r/{subreddit_param}/search.json?q={q_param}&restrict_sr=on&limit=100&after={after_param}&sort=new', headers=headers)\n",
    "\n",
    "        next_hundred = json.loads(res.text)  # dictionary\n",
    "\n",
    "        print('Req', i+1, ':\\t', next_hundred['data']['dist'])\n",
    "\n",
    "        if len(next_hundred['data']['children']) < 1:\n",
    "            break\n",
    "\n",
    "        for child in next_hundred['data']['children']:\n",
    "\n",
    "            data.append({\n",
    "#                 'sno' : sno,\n",
    "                'created': child['data']['created'],\n",
    "                'author': child['data']['author'],\n",
    "                'title': child['data']['title'].replace('\\n', ''),\n",
    "                'selftext': child['data']['selftext'].replace('\\n', ''),\n",
    "                'is_suicide': 1 if subreddit_param == \"suicidewatch\" else 0\n",
    "            })\n",
    "    \n",
    "#             sno+=1\n",
    "        after_param = child['data']['name']\n",
    "    \n",
    "    # save to file\n",
    "    file_name = f\"reddit_{subreddit_param}.json\"\n",
    "    f = open(path.join(\"..\",\"data\",file_name), 'w', newline='')\n",
    "    f.write(json.dumps(data, ensure_ascii=False))\n",
    "    f.close()\n",
    "    \n",
    "    num_posts = len(data)\n",
    "    print(\"No. of posts : \", num_posts)\n",
    "    \n",
    "    return num_posts"
   ]
  },
  {
   "cell_type": "code",
   "execution_count": 4,
   "metadata": {},
   "outputs": [
    {
     "name": "stdout",
     "output_type": "stream",
     "text": [
      "Getting data from 'depression'\n",
      "Req 1 :\t 100\n",
      "Req 2 :\t 100\n",
      "Req 3 :\t 37\n",
      "Req 4 :\t 0\n",
      "No. of posts :  237\n",
      "Getting data from 'suicidewatch'\n",
      "Req 1 :\t 100\n",
      "Req 2 :\t 100\n",
      "Req 3 :\t 0\n",
      "No. of posts :  200\n",
      "Fetched total 437 posts\n"
     ]
    }
   ],
   "source": [
    "num_depression = get_data_from_subreddit(\"depression\")\n",
    "num_suicidewatch = get_data_from_subreddit(\"suicidewatch\")\n",
    "print(f\"Fetched total {num_depression+num_suicidewatch} posts\")"
   ]
  },
  {
   "cell_type": "code",
   "execution_count": 5,
   "metadata": {},
   "outputs": [
    {
     "name": "stdout",
     "output_type": "stream",
     "text": [
      "Data collection done right...\n"
     ]
    }
   ],
   "source": [
    "print('Data collection done right...')"
   ]
  },
  {
   "cell_type": "code",
   "execution_count": null,
   "metadata": {},
   "outputs": [],
   "source": []
  }
 ],
 "metadata": {
  "kernelspec": {
   "display_name": "Python 3",
   "language": "python",
   "name": "python3"
  },
  "language_info": {
   "codemirror_mode": {
    "name": "ipython",
    "version": 3
   },
   "file_extension": ".py",
   "mimetype": "text/x-python",
   "name": "python",
   "nbconvert_exporter": "python",
   "pygments_lexer": "ipython3",
   "version": "3.8.5"
  }
 },
 "nbformat": 4,
 "nbformat_minor": 4
}
