{
 "cells": [
  {
   "cell_type": "code",
   "execution_count": 4,
   "metadata": {},
   "outputs": [
    {
     "name": "stdout",
     "output_type": "stream",
     "text": [
      "Libraries imported!\n"
     ]
    }
   ],
   "source": [
    "from nltk.tokenize import RegexpTokenizer\n",
    "from nltk.stem import WordNetLemmatizer\n",
    "from nltk.corpus import stopwords\n",
    "\n",
    "import pandas as pd\n",
    "\n",
    "from os import path\n",
    "print('Libraries imported!')"
   ]
  },
  {
   "cell_type": "code",
   "execution_count": 6,
   "metadata": {},
   "outputs": [
    {
     "name": "stdout",
     "output_type": "stream",
     "text": [
      "        created               author  \\\n",
      "0    1612090404          zaziaajazzy   \n",
      "1    1611971235          LaxmiVerma1   \n",
      "2    1611843001  Hungry-Account-1350   \n",
      "3    1611719121       meditate4peace   \n",
      "4    1611711946             SiRex750   \n",
      "..          ...                  ...   \n",
      "232  1553398434              nimmu87   \n",
      "233  1552947493          ravvi_sandy   \n",
      "234  1552831189               devs97   \n",
      "235  1552650376      SadJoetheSchmoe   \n",
      "236  1551970694     johnsmith121jsjs   \n",
      "\n",
      "                                                 title  \\\n",
      "0                            idc abt other ppl anymroe   \n",
      "1     As a psychologist, what will be your next level?   \n",
      "2    How can i help a widow women of 32F suffering ...   \n",
      "3    How I managed to overcome depression and becam...   \n",
      "4    I didn't want to move... and now I want to kil...   \n",
      "..                                                 ...   \n",
      "232  One fine day in 2004, my brain just refused to...   \n",
      "233                           im ging to end it all...   \n",
      "234  I come from a place where mental health proble...   \n",
      "235  Feeling low, seems to gave been a trend for th...   \n",
      "236  Some Common Things You Must Know About Depression   \n",
      "\n",
      "                                              selftext  is_suicide  \n",
      "0    I kinda feel bad for being so tired all the ti...           0  \n",
      "1    Hi, I am Laxmi, a clinical psychologist from I...           0  \n",
      "2    Hi Folks,I will try to keep this content short...           0  \n",
      "3    Hi Guys, I am from Delhi, India and a disciple...           0  \n",
      "4    In the last few months of my elementary school...           0  \n",
      "..                                                 ...         ...  \n",
      "232  Since then, I have pursued and completed bache...           0  \n",
      "233  i am immigrant from india... life doe s not tr...           0  \n",
      "234  The first time when I had my stint of being de...           0  \n",
      "235  Money is low, 36 hours away from ny phone bein...           0  \n",
      "236   Unhappiness, discouragement and hopelessness ...           0  \n",
      "\n",
      "[237 rows x 5 columns]\n"
     ]
    }
   ],
   "source": [
    "depression_data = pd.read_json(path.join(\"..\",\"data\", \"reddit_depression.json\"))\n",
    "print(depression_data)"
   ]
  },
  {
   "cell_type": "code",
   "execution_count": 7,
   "metadata": {},
   "outputs": [
    {
     "name": "stdout",
     "output_type": "stream",
     "text": [
      "        created               author  \\\n",
      "0    1612090404          zaziaajazzy   \n",
      "1    1611971235          LaxmiVerma1   \n",
      "2    1611843001  Hungry-Account-1350   \n",
      "3    1611719121       meditate4peace   \n",
      "4    1611711946             SiRex750   \n",
      "..          ...                  ...   \n",
      "232  1553398434              nimmu87   \n",
      "233  1552947493          ravvi_sandy   \n",
      "234  1552831189               devs97   \n",
      "235  1552650376      SadJoetheSchmoe   \n",
      "236  1551970694     johnsmith121jsjs   \n",
      "\n",
      "                                                 title  \\\n",
      "0                            idc abt other ppl anymroe   \n",
      "1     As a psychologist, what will be your next level?   \n",
      "2    How can i help a widow women of 32F suffering ...   \n",
      "3    How I managed to overcome depression and becam...   \n",
      "4    I didn't want to move... and now I want to kil...   \n",
      "..                                                 ...   \n",
      "232  One fine day in 2004, my brain just refused to...   \n",
      "233                           im ging to end it all...   \n",
      "234  I come from a place where mental health proble...   \n",
      "235  Feeling low, seems to gave been a trend for th...   \n",
      "236  Some Common Things You Must Know About Depression   \n",
      "\n",
      "                                              selftext  is_suicide  \n",
      "0    I kinda feel bad for being so tired all the ti...           0  \n",
      "1    Hi, I am Laxmi, a clinical psychologist from I...           0  \n",
      "2    Hi Folks,I will try to keep this content short...           0  \n",
      "3    Hi Guys, I am from Delhi, India and a disciple...           0  \n",
      "4    In the last few months of my elementary school...           0  \n",
      "..                                                 ...         ...  \n",
      "232  Since then, I have pursued and completed bache...           0  \n",
      "233  i am immigrant from india... life doe s not tr...           0  \n",
      "234  The first time when I had my stint of being de...           0  \n",
      "235  Money is low, 36 hours away from ny phone bein...           0  \n",
      "236   Unhappiness, discouragement and hopelessness ...           0  \n",
      "\n",
      "[237 rows x 5 columns]\n"
     ]
    }
   ],
   "source": [
    "suicidewatch_data = pd.read_json(path.join(\"..\",\"data\", \"reddit_suicidewatch.json\"))\n",
    "print(depression_data)"
   ]
  },
  {
   "cell_type": "code",
   "execution_count": 9,
   "metadata": {},
   "outputs": [
    {
     "name": "stdout",
     "output_type": "stream",
     "text": [
      "                  author                                              title  \\\n",
      "0            zaziaajazzy                          idc abt other ppl anymroe   \n",
      "1            LaxmiVerma1   As a psychologist, what will be your next level?   \n",
      "2    Hungry-Account-1350  How can i help a widow women of 32F suffering ...   \n",
      "3         meditate4peace  How I managed to overcome depression and becam...   \n",
      "4               SiRex750  I didn't want to move... and now I want to kil...   \n",
      "..                   ...                                                ...   \n",
      "432       sheikhyerbouti                       Angry, upset, and frightened   \n",
      "433               Drvibe                                      I'm so tired.   \n",
      "434           sofaralone  A lot of parents will do anything for their ki...   \n",
      "435          ingenioutor                  My brother just committed suicide   \n",
      "436      3amSomeoneThere  It's 3 am, and I want to die.  By the end of t...   \n",
      "\n",
      "                                              selftext  is_suicide  \n",
      "0    I kinda feel bad for being so tired all the ti...           0  \n",
      "1    Hi, I am Laxmi, a clinical psychologist from I...           0  \n",
      "2    Hi Folks,I will try to keep this content short...           0  \n",
      "3    Hi Guys, I am from Delhi, India and a disciple...           0  \n",
      "4    In the last few months of my elementary school...           0  \n",
      "..                                                 ...         ...  \n",
      "432  My current workplace is undergoing a massive \"...           1  \n",
      "433  I'm exhausted , I really am, I'm so sick of it...           1  \n",
      "434  I have felt suicidal on and off for several ye...           1  \n",
      "435  SQLwitch asked me to post here. Here is a copy...           1  \n",
      "436  Maybe this won't seem like much to others.  Fr...           1  \n",
      "\n",
      "[437 rows x 4 columns]\n"
     ]
    }
   ],
   "source": [
    "combined_data = pd.concat(\n",
    "    [depression_data, suicidewatch_data], axis=0, ignore_index=True)\n",
    "\n",
    "filtered_data = combined_data[[\"author\", \"title\", \"selftext\", \"is_suicide\"]]\n",
    "print(filtered_data)"
   ]
  },
  {
   "cell_type": "code",
   "execution_count": 11,
   "metadata": {},
   "outputs": [],
   "source": [
    "def preprocessing_text(series_to_process):\n",
    "    \n",
    "    new_list = []\n",
    "    tokenizer = RegexpTokenizer(r'(\\w+)') # breaking in words\n",
    "    lemmatizer = WordNetLemmatizer() # replacing a word with its most simple form\n",
    "    english_stopwords = stopwords.words(\"english\") # these words do not contribute to sentiment\n",
    "    \n",
    "    for i in range(len(series_to_process)):\n",
    "        dirty_string = (series_to_process)[i].lower() # converting to lowercase\n",
    "        words_only = tokenizer.tokenize(dirty_string) \n",
    "        words_only_lem = [lemmatizer.lemmatize(i) for i in words_only]\n",
    "        words_without_stop = [\n",
    "            j for j in words_only_lem if j not in english_stopwords]\n",
    "        long_string_clean = \" \".join(word for word in words_without_stop)\n",
    "        new_list.append(long_string_clean)\n",
    "    return new_list"
   ]
  },
  {
   "cell_type": "code",
   "execution_count": 13,
   "metadata": {},
   "outputs": [
    {
     "name": "stdout",
     "output_type": "stream",
     "text": [
      "0      idc abt ppl anymroe kinda feel bad tired time ...\n",
      "1      psychologist next level hi laxmi clinical psyc...\n",
      "2      help widow woman 32f suffering depression hi f...\n",
      "3      managed overcome depression became healthier v...\n",
      "4      want move want kill last month elementary scho...\n",
      "                             ...                        \n",
      "432    angry upset frightened current workplace under...\n",
      "433    tired exhausted really sick guy im hairy im ug...\n",
      "434    lot parent anything kid except let felt suicid...\n",
      "435    brother committed suicide sqlwitch asked post ...\n",
      "436    3 want die end day either done critical day li...\n",
      "Name: megatext_clean, Length: 437, dtype: object\n"
     ]
    }
   ],
   "source": [
    "filtered_data['title_clean'] = preprocessing_text(filtered_data['title'])\n",
    "filtered_data['selftext_clean'] = preprocessing_text(filtered_data['selftext'])\n",
    "\n",
    "filtered_data['megatext_clean'] = filtered_data[\"title_clean\"] + ' ' + filtered_data['selftext_clean']\n",
    "# author to be added ...\n",
    "\n",
    "print(filtered_data['megatext_clean'])"
   ]
  },
  {
   "cell_type": "code",
   "execution_count": 14,
   "metadata": {},
   "outputs": [],
   "source": [
    "filtered_data.to_json(path.join(\"..\",\"data\", \"reddit_cleaned.json\"))"
   ]
  },
  {
   "cell_type": "code",
   "execution_count": null,
   "metadata": {},
   "outputs": [],
   "source": []
  }
 ],
 "metadata": {
  "kernelspec": {
   "display_name": "Python 3",
   "language": "python",
   "name": "python3"
  },
  "language_info": {
   "codemirror_mode": {
    "name": "ipython",
    "version": 3
   },
   "file_extension": ".py",
   "mimetype": "text/x-python",
   "name": "python",
   "nbconvert_exporter": "python",
   "pygments_lexer": "ipython3",
   "version": "3.8.5"
  }
 },
 "nbformat": 4,
 "nbformat_minor": 4
}
